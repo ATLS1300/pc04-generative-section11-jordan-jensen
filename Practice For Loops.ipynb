{
 "cells": [
  {
   "cell_type": "markdown",
   "id": "33a07cb4",
   "metadata": {},
   "source": [
    "# We are learning about for loops today!"
   ]
  },
  {
   "cell_type": "markdown",
   "id": "65f67d97",
   "metadata": {},
   "source": [
    "For loops are an important part of creating generative and pattern-based art. We can make polygons, spirographs and more complex patterns by using for loops. Let's get familliar!\n",
    "\n",
    "**Remember:** press SHIFT + ENTER to execute the code in the cell (gray blocks with line numbers). <br>\n",
    "If you get an error printed below, you have a mistake that must be fixed in that cell. <br>\n",
    "If nothing is shown below the gray cell block, you've gotten it right!"
   ]
  },
  {
   "cell_type": "markdown",
   "id": "618b1246",
   "metadata": {},
   "source": [
    "## 1. Using `range()` to determine number of loops\n",
    "1. For loops allow predetermined numbers of repeats, or **iterations** in programs. This means that we know how many times we want a task to repeat. Predetermined looping requires data structures in order to run. For loops will use the number of elements (or individual values) stored in the data structure to determine the number of times the loop runs. Let's start with a simple loop.\n",
    "\n",
    "In the cell below, the function `range()` is used with the value `4` to create a loop that repeats 4 times.\n",
    "Change the value to 10 and see how many times the loop repeats."
   ]
  },
  {
   "cell_type": "code",
   "execution_count": null,
   "id": "48dfa66b",
   "metadata": {},
   "outputs": [],
   "source": [
    "for i in range(4):\n",
    "    print('Repeat')"
   ]
  },
  {
   "cell_type": "markdown",
   "id": "e7c0c968",
   "metadata": {},
   "source": [
    "The variable name `i` is used for the **index variable**. The index variable changes with each iteration (or repeat) of the loop! Let's see what the values of i are, as the loop repeats. \n",
    "Copy the loop above, and instead of `'Repeat'` type in the **index variable** name `i` (which is short for index)."
   ]
  },
  {
   "cell_type": "code",
   "execution_count": null,
   "id": "31db2c7b",
   "metadata": {},
   "outputs": [],
   "source": []
  },
  {
   "cell_type": "markdown",
   "id": "23266e19",
   "metadata": {},
   "source": [
    "With the first iteration, i = 0, the second iteration, i = 1, and so forth. This makes for a handy counter AND a handy index, when trying work with multiple values in a list (or tuple!), one after another."
   ]
  },
  {
   "cell_type": "markdown",
   "id": "4e1ab0e2",
   "metadata": {},
   "source": [
    "## 2. Stepping through values in data structures\n",
    "2. For loops can work with any data structure, not just ranges. Let's see the different ways we can work with a list to step through values inside the list\n",
    "\n",
    "In the space below, create a list called `numLoops` that has 3 values. They can be anything you like (ex types: `str`, `int`, `bool`)!"
   ]
  },
  {
   "cell_type": "code",
   "execution_count": null,
   "id": "28808011",
   "metadata": {},
   "outputs": [],
   "source": [
    "numLoops ="
   ]
  },
  {
   "cell_type": "markdown",
   "id": "0b2bf0d7",
   "metadata": {},
   "source": [
    "Now let's use a loop to print the values of each element. This is the simplest type of for loop.\n",
    "\n",
    "**A note on names:**<br>\n",
    "It's good practice to use a give your **index variable** a descriptive name. The name should indicate how you are using your index variable! In the first example, we're merely using the index variable to count the number of repeats the loop makes, so we used `i`. But in this example, we use the value in the element in the loop itself, so we use `elem`."
   ]
  },
  {
   "cell_type": "code",
   "execution_count": null,
   "id": "88aed728",
   "metadata": {},
   "outputs": [],
   "source": [
    "for elem in numLoops:\n",
    "    print(elem)"
   ]
  },
  {
   "cell_type": "markdown",
   "id": "48e7c00e",
   "metadata": {},
   "source": [
    "The index variable, `elem` stores each value in numLoops, which updates with each iteration. \n",
    "\n",
    "Try changing the first element of numLoops to `0` using indexing:"
   ]
  },
  {
   "cell_type": "code",
   "execution_count": null,
   "id": "f17869c4",
   "metadata": {},
   "outputs": [],
   "source": [
    "numLoops[0] = \n",
    "# add your value to the righthand side"
   ]
  },
  {
   "cell_type": "markdown",
   "id": "f9c1b2e8",
   "metadata": {},
   "source": [
    "Now change the number of elements in the list 'numLoops'. For this, we can use a hidden function that comes with all lists. We can access these \"hidden\" functions by using dot notation.\n",
    "\n",
    "Add a value in the parentheses below to append (or attach) an extra element onto the end of our list.\n"
   ]
  },
  {
   "cell_type": "code",
   "execution_count": null,
   "id": "0bb28c65",
   "metadata": {},
   "outputs": [],
   "source": [
    "numLoops.append(\"Replace_This_Text\")"
   ]
  },
  {
   "cell_type": "markdown",
   "id": "d1fa0ed4",
   "metadata": {},
   "source": [
    "Now let's run the loop again. What has changed?"
   ]
  },
  {
   "cell_type": "code",
   "execution_count": null,
   "id": "9beaffbd",
   "metadata": {},
   "outputs": [],
   "source": [
    "for elem in numLoops:\n",
    "    print(elem)"
   ]
  },
  {
   "cell_type": "markdown",
   "id": "83edeaba",
   "metadata": {},
   "source": [
    "# Check your answers\n",
    "Run the cell below to check your answers so far!"
   ]
  },
  {
   "cell_type": "code",
   "execution_count": null,
   "id": "46fd2f69",
   "metadata": {},
   "outputs": [],
   "source": [
    "assert type(numLoops) == type([]), \"Whoops, your numLoops variable isn't a list! Redo the task in Section 2\" # check that numLoops is a list\n",
    "assert len(numLoops) == 4, \"You do not have the right number of elements in your numLoops variable. Please check your definition!\"# numLoops starts off with 3 values, and 2 more should be added\n",
    "assert numLoops[0] == 0, \"numLoops[0] does not have a value of 0. Did you run that cell? (SHIFT + ENTER)\"# change the first value using indexing\n",
    "\n",
    "print('Nice work, keep going!')"
   ]
  },
  {
   "cell_type": "markdown",
   "id": "215d3add",
   "metadata": {},
   "source": [
    "## 3. Incrementally changing values in for loops\n",
    "Oftentimes, we'll want to change a value as we progress through a loop. This is useful for animations, or creating color gradients (see the **thought project** below!)\n",
    "\n",
    "For this, we can use the **assignment operators** `+=` or `-=`\n",
    "The syntax to use theses is:<br>\n",
    "    `variable += increment`<br>\n",
    "    where `variable` and `increment` are numeric variables (like `int` or `float`). \n",
    "\n",
    "When this line is executed, the variable value will change by the increment on the right.<br>\n",
    "For example, \n",
    "if `startVal = 0`, then <br>\n",
    "`startVal -= 10` subtracts 10 from the value of `startVal`(now startVal has a value of -10)\n",
    "\n",
    "\n",
    "This is the same as writing:<br>\n",
    "`startVal = startVal - 10`<br>\n",
    "\n",
    "Now it's your turn. Try adding to a value in a for loop. We'll add the increment 10 to an integer!\n",
    "\n",
    "1. Create the variable `startVal` with a value of 0. Create the variable `increment` with a value of 10.\n",
    "2. Create a simple for loop (`for i in range...`) that repeats 10 times.\n",
    "3. Inside the loop (indent), use either `+=` or `-=` to change the value of `startVal`\n"
   ]
  },
  {
   "cell_type": "code",
   "execution_count": null,
   "id": "5762e3a7",
   "metadata": {},
   "outputs": [],
   "source": [
    "\n",
    "\n"
   ]
  },
  {
   "cell_type": "code",
   "execution_count": null,
   "id": "b02ecb60",
   "metadata": {},
   "outputs": [],
   "source": [
    "# run this cell to see what the final value of startVal is!\n",
    "print(startVal)"
   ]
  },
  {
   "cell_type": "markdown",
   "id": "2902b31c",
   "metadata": {},
   "source": [
    "## 4. Indexing multiple lists with a single for loop (intermediate)\n",
    "If you're programming with lots of lists, odds are you will want to work with more than one in a repeated fashion. Let's say you're going to update your turtle color using a list, and stamping it at a list of locations. You'll need two lists: `colors` and `locations`. `locations` is made for you.\n",
    "\n",
    "In the cell below, create a list called `colors` that contains 'violet', 'green', and 'aquamarine'"
   ]
  },
  {
   "cell_type": "code",
   "execution_count": null,
   "id": "96332fc5",
   "metadata": {},
   "outputs": [],
   "source": [
    "locations = [(100,100),(-50,76),(200,-87)] # this is a list of tuples...whoa...\n",
    "colors = [\"violet\",\"green\",\"aquamarine\"]"
   ]
  },
  {
   "cell_type": "markdown",
   "id": "c7d49748",
   "metadata": {},
   "source": [
    "To step through the list of loops, we can use the `range()` function in combination with the built-in `len()` function, which returns the number of elements of a variable."
   ]
  },
  {
   "cell_type": "markdown",
   "id": "1c56df72",
   "metadata": {},
   "source": [
    "Now we can use a for loop to generate an index, and us that index to access our lists. The loop below does this for `locations` only. Copy the last line of the loop and past it in line 9. Change the line so that we're using the `turtle.color()` function with the `colors`list. (*hint: colors[i] goes in the parentheses*)"
   ]
  },
  {
   "cell_type": "code",
   "execution_count": null,
   "id": "8ffb4257",
   "metadata": {},
   "outputs": [],
   "source": [
    "import turtle\n",
    "\n",
    "turtle.up() # pick up pen\n",
    "turtle.shape('turtle')\n",
    "turtle.penwidth(4) # thick line for easier visibility\n",
    "\n",
    "for i in range(len(locations)):\n",
    "    turtle.goto(locations[i])   # got to location in the list in each step of the loop\n",
    "    print(\"The iteration is {}. The location is {}\".format(i, locations[i]))\n",
    "    # add line to change change color here\n",
    "    turtle.stamp()    # stamp the turtle!\n",
    "    \n",
    "turtle.done()"
   ]
  },
  {
   "cell_type": "markdown",
   "id": "631e3764",
   "metadata": {},
   "source": [
    "## 5. Working with lists of mismatched lengths (advanced, optional)\n",
    "\n",
    "Sometimes, we'll want to use a set of colors for a larger number of repeats. This is where the **modulo operator**  `%` comes into play.\n",
    "\n",
    "**Modulo** returns the remainder of the number on the left divided by the number on the right:\n",
    "\n",
    "`leftNum % rightNum --> Remainder`\n",
    "\n",
    "We can set the length of our small list as the left number and our index variable as the right number. We can use this entire line to access a list from start to end, start to end, start to end... (In other words: color[0], color[1], color[2], color[0], color[1], color[2], and so forth)\n",
    "\n",
    "`index % short list`\n",
    "\n",
    "This way, as our index grows in the for loop, the remainder will cycle through values! That cycling will let us continually step through our short list. Let's give it a try!"
   ]
  },
  {
   "cell_type": "markdown",
   "id": "352ca2b6",
   "metadata": {},
   "source": [
    "Let's start by making `locations` into a longer list. Use the append function that's built into lists to add 3 more values to the list. \n",
    "You must add values one at a time. The first one is done for you.\n",
    "\n",
    "Add the two tuples below:<br>\n",
    "`(90,-43)`<br>\n",
    "`(0,0)`"
   ]
  },
  {
   "cell_type": "code",
   "execution_count": null,
   "id": "2a805b2a",
   "metadata": {},
   "outputs": [],
   "source": [
    "locations.append((-60,-100))\n",
    "# in the lines below add the 2 other tuples using the append function\n",
    "# note the parentheses inside the append function!\n"
   ]
  },
  {
   "cell_type": "markdown",
   "id": "4d7e6f6f",
   "metadata": {},
   "source": [
    "Great! Now copy **only the for loop** (lines 6-10) from earlier and paste it below.<br>\n",
    "Change **line 8** so that the index for the list `colors` is: [i % colors]\n",
    "\n",
    "**Remember: the formula to repeat colors  is `dataStructure[index variable % SHORTER dataStructure]`**"
   ]
  },
  {
   "cell_type": "code",
   "execution_count": null,
   "id": "d6f79efa",
   "metadata": {},
   "outputs": [],
   "source": []
  },
  {
   "cell_type": "markdown",
   "id": "3c0ff00c",
   "metadata": {},
   "source": [
    "# Check your answers\n",
    "Run the cell below to check your answers!"
   ]
  },
  {
   "cell_type": "code",
   "execution_count": null,
   "id": "46fd2f69",
   "metadata": {},
   "outputs": [],
   "source": [
    "assert type(startVal)== int or type(startVal) == float, \"startVal isn't a number. Check the definition in Section 3.\" \n",
    "assert startVal == -100 or startVal == 100, \"Uh oh. Check that: increment = 0, startVal = 0 and you used range(10) in the for loop!\"\n",
    "assert len(locations) == 5, \"You did not add the right number of elements to the locations list. Please try again.\"\n",
    "\n",
    "print('Great job, programmer!')"
   ]
  },
  {
   "cell_type": "markdown",
   "id": "fa534929",
   "metadata": {},
   "source": [
    "## Thought project (expert)\n",
    " \n",
    "### How can we use modulo and RGB values to incrementally change a value?\n",
    "For this thought project, you may want to think about the assignment operators `+=` or `-=`. You can read about these here. \n",
    "We'll use these in combination with for loops in the next workbook.\n",
    "\n",
    "Hints:<br>\n",
    "`turtle.color((0,0,0)) # Black`<br>\n",
    "`turtle.color((50,50,50)) # Dark Gray`<br>\n",
    "`turtle.color((100,100,100)) # Lighter Gray`<br>\n",
    "What's the pattern here? Try to create a gradually darkening red color below using a for loop and RGB values.\n",
    "\n"
   ]
  },
  {
   "cell_type": "code",
   "execution_count": null,
   "id": "353d55c0",
   "metadata": {},
   "outputs": [],
   "source": []
  }
 ],
 "metadata": {
  "kernelspec": {
   "display_name": "Python 3",
   "language": "python",
   "name": "python3"
  },
  "language_info": {
   "codemirror_mode": {
    "name": "ipython",
    "version": 3
   },
   "file_extension": ".py",
   "mimetype": "text/x-python",
   "name": "python",
   "nbconvert_exporter": "python",
   "pygments_lexer": "ipython3",
   "version": "3.8.8"
  }
 },
 "nbformat": 4,
 "nbformat_minor": 5
}
